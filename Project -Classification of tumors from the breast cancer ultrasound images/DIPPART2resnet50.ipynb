{
  "cells": [
    {
      "cell_type": "markdown",
      "metadata": {
        "id": "view-in-github",
        "colab_type": "text"
      },
      "source": [
        "<a href=\"https://colab.research.google.com/github/apoorwagupta/Digital_Image_Processing/blob/main/Project%20-Classification%20of%20tumors%20from%20the%20breast%20cancer%20ultrasound%20images/DIPPART2resnet50.ipynb\" target=\"_parent\"><img src=\"https://colab.research.google.com/assets/colab-badge.svg\" alt=\"Open In Colab\"/></a>"
      ]
    },
    {
      "cell_type": "code",
      "execution_count": null,
      "id": "6d314357",
      "metadata": {
        "_cell_guid": "b1076dfc-b9ad-4769-8c92-a6c4dae69d19",
        "_uuid": "8f2839f25d086af736a60e9eeb907d3b93b6e0e5",
        "execution": {
          "iopub.execute_input": "2022-06-13T06:02:59.897489Z",
          "iopub.status.busy": "2022-06-13T06:02:59.896836Z",
          "iopub.status.idle": "2022-06-13T06:03:06.845326Z",
          "shell.execute_reply": "2022-06-13T06:03:06.844248Z"
        },
        "papermill": {
          "duration": 6.960085,
          "end_time": "2022-06-13T06:03:06.847954",
          "exception": false,
          "start_time": "2022-06-13T06:02:59.887869",
          "status": "completed"
        },
        "tags": [],
        "id": "6d314357"
      },
      "outputs": [],
      "source": [
        "from tensorflow import keras\n",
        "import cv2\n",
        "from tensorflow.keras.preprocessing.image import load_img ,img_to_array\n",
        "import matplotlib.pyplot as plt\n",
        "from tensorflow.keras.models import Sequential \n",
        "from tensorflow.keras.layers import Conv2D\n",
        "from tensorflow.keras.layers import MaxPooling2D,AveragePooling2D,BatchNormalization\n",
        "from tensorflow.keras.layers import Dense,Activation\n",
        "from tensorflow.keras.layers import Flatten,Dropout,SpatialDropout2D\n",
        "from tensorflow.keras.optimizers import SGD\n",
        "from tensorflow.keras.optimizers import Adam\n",
        "import os\n",
        "import numpy as np\n",
        "import pandas as pd"
      ]
    },
    {
      "cell_type": "code",
      "source": [
        "from google.colab import drive\n",
        "drive.mount(\"/content/drive\")"
      ],
      "metadata": {
        "colab": {
          "base_uri": "https://localhost:8080/"
        },
        "id": "uNWVFp7I70cJ",
        "outputId": "8d8f889c-213c-4ce9-d4bf-a60587ae3e40"
      },
      "id": "uNWVFp7I70cJ",
      "execution_count": null,
      "outputs": [
        {
          "output_type": "stream",
          "name": "stdout",
          "text": [
            "Drive already mounted at /content/drive; to attempt to forcibly remount, call drive.mount(\"/content/drive\", force_remount=True).\n"
          ]
        }
      ]
    },
    {
      "cell_type": "code",
      "execution_count": null,
      "id": "ed19a069",
      "metadata": {
        "execution": {
          "iopub.execute_input": "2022-06-13T06:03:06.858198Z",
          "iopub.status.busy": "2022-06-13T06:03:06.857517Z",
          "iopub.status.idle": "2022-06-13T06:03:06.994469Z",
          "shell.execute_reply": "2022-06-13T06:03:06.993696Z"
        },
        "papermill": {
          "duration": 0.144092,
          "end_time": "2022-06-13T06:03:06.996325",
          "exception": false,
          "start_time": "2022-06-13T06:03:06.852233",
          "status": "completed"
        },
        "tags": [],
        "colab": {
          "base_uri": "https://localhost:8080/"
        },
        "id": "ed19a069",
        "outputId": "3ab994bd-77c6-423f-fe8d-749b28fe3372"
      },
      "outputs": [
        {
          "output_type": "execute_result",
          "data": {
            "text/plain": [
              "{'Benign': 447, 'Malignant': 210}"
            ]
          },
          "metadata": {},
          "execution_count": 6
        }
      ],
      "source": [
        "path = \"/content/drive/MyDrive/dipdataset/\"\n",
        "dir_list = [os.path.join(path,i) for i in os.listdir(path)]\n",
        "size_dict = {}\n",
        "for i,value in enumerate(dir_list):\n",
        "    size_dict[os.listdir(path)[i]] = len(os.listdir(value))\n",
        "size_dict "
      ]
    },
    {
      "cell_type": "code",
      "execution_count": null,
      "id": "b594977d",
      "metadata": {
        "execution": {
          "iopub.execute_input": "2022-06-13T06:03:07.006845Z",
          "iopub.status.busy": "2022-06-13T06:03:07.006123Z",
          "iopub.status.idle": "2022-06-13T06:03:07.010431Z",
          "shell.execute_reply": "2022-06-13T06:03:07.009632Z"
        },
        "papermill": {
          "duration": 0.011753,
          "end_time": "2022-06-13T06:03:07.012400",
          "exception": false,
          "start_time": "2022-06-13T06:03:07.000647",
          "status": "completed"
        },
        "tags": [],
        "id": "b594977d"
      },
      "outputs": [],
      "source": [
        "import re\n",
        "def clean(name):\n",
        "    name = re.sub('[benign ().p]','',str(name))\n",
        "    return name"
      ]
    },
    {
      "cell_type": "code",
      "execution_count": null,
      "id": "fe6cdc90",
      "metadata": {
        "execution": {
          "iopub.execute_input": "2022-06-13T06:03:07.023432Z",
          "iopub.status.busy": "2022-06-13T06:03:07.022731Z",
          "iopub.status.idle": "2022-06-13T06:03:07.044005Z",
          "shell.execute_reply": "2022-06-13T06:03:07.043337Z"
        },
        "papermill": {
          "duration": 0.029397,
          "end_time": "2022-06-13T06:03:07.046355",
          "exception": false,
          "start_time": "2022-06-13T06:03:07.016958",
          "status": "completed"
        },
        "tags": [],
        "colab": {
          "base_uri": "https://localhost:8080/"
        },
        "id": "fe6cdc90",
        "outputId": "cdf0535f-04cb-4136-c641-99f736caac99"
      },
      "outputs": [
        {
          "output_type": "stream",
          "name": "stdout",
          "text": [
            "447\n"
          ]
        }
      ],
      "source": [
        "df = pd.DataFrame(os.listdir(dir_list[0]))\n",
        "# df = df.apply(str,axis=1)\n",
        "df = df[0].apply(clean)\n",
        "# print(df.info())\n",
        "df = df[~df.str.contains('mask',regex =False)]\n",
        "df = df.apply(int)\n",
        "df_list = list(df)\n",
        "type(df_list)\n",
        "df_list.sort()\n",
        "print(len(df_list))"
      ]
    },
    {
      "cell_type": "code",
      "execution_count": null,
      "id": "23b45965",
      "metadata": {
        "execution": {
          "iopub.execute_input": "2022-06-13T06:03:07.058303Z",
          "iopub.status.busy": "2022-06-13T06:03:07.057640Z",
          "iopub.status.idle": "2022-06-13T06:03:07.064568Z",
          "shell.execute_reply": "2022-06-13T06:03:07.063812Z"
        },
        "papermill": {
          "duration": 0.014623,
          "end_time": "2022-06-13T06:03:07.066544",
          "exception": false,
          "start_time": "2022-06-13T06:03:07.051921",
          "status": "completed"
        },
        "tags": [],
        "id": "23b45965"
      },
      "outputs": [],
      "source": [
        "img_size = 128\n",
        "img_channel = 3\n",
        "X_b , Xm_b , y_b = np.zeros((437,img_size,img_size,img_channel)) , np.zeros((437,img_size,img_size,img_channel)) , np.full(437,'benign') \n",
        "X_n , Xm_n , y_n = np.zeros((133,img_size,img_size,img_channel)) , np.zeros((133,img_size,img_size,img_channel)) , np.full(133,'normal') \n",
        "X_m , Xm_m , y_m = np.zeros((210,img_size,img_size,img_channel)) , np.zeros((210,img_size,img_size,img_channel)) , np.full(210,'malignant')"
      ]
    },
    {
      "cell_type": "code",
      "execution_count": null,
      "id": "5718a1c8",
      "metadata": {
        "execution": {
          "iopub.execute_input": "2022-06-13T06:03:07.077657Z",
          "iopub.status.busy": "2022-06-13T06:03:07.076953Z",
          "iopub.status.idle": "2022-06-13T06:03:23.893850Z",
          "shell.execute_reply": "2022-06-13T06:03:23.892779Z"
        },
        "papermill": {
          "duration": 16.825515,
          "end_time": "2022-06-13T06:03:23.896671",
          "exception": false,
          "start_time": "2022-06-13T06:03:07.071156",
          "status": "completed"
        },
        "tags": [],
        "colab": {
          "base_uri": "https://localhost:8080/"
        },
        "id": "5718a1c8",
        "outputId": "fe150bce-973d-4538-b2e1-794b54fea3e3"
      },
      "outputs": [
        {
          "output_type": "stream",
          "name": "stdout",
          "text": [
            "(128, 128, 3)\n"
          ]
        }
      ],
      "source": [
        "import os\n",
        "img1_path = os.path.join(os.path.join(path,'Benign'),os.listdir(os.path.join(path,'Benign'))[1])\n",
        "\n",
        "pil_img = load_img(img1_path,color_mode = 'rgb',target_size=(img_size,img_size))\n",
        "img = img_to_array(pil_img)\n",
        "img_shape = img.shape\n",
        "print(img_shape)\n",
        "\n",
        "def img_num(filename):\n",
        "    \n",
        "    val = 0\n",
        "    \n",
        "    for i in range(len(filename)) :\n",
        "        if filename[i] == '(' :\n",
        "            while True :\n",
        "                i += 1\n",
        "                if filename[i] == ')' :\n",
        "                    break\n",
        "                val = (val*10) + int(filename[i])\n",
        "            break\n",
        "    \n",
        "    return val\n",
        "\n",
        "for tumor_path in dir_list :\n",
        "    for image in os.listdir(tumor_path) :\n",
        "        p = os.path.join(tumor_path, image)\n",
        "        pil_img = load_img(p,color_mode = 'rgb',target_size=(img_size,img_size))         # read image as  grayscale ans resize it\n",
        "        \n",
        "        if image[-5] == ')' :                                   #if real image \n",
        "            \n",
        "            if image[0] == 'b' :\n",
        "                X_b[img_num(image)-1]+= img_to_array(pil_img)  # If image is real add it\n",
        "            if image[0] == 'n' :                               # to X as benign , normal\n",
        "                X_n[img_num(image)-1]+= img_to_array(pil_img)  # or malignant.\n",
        "            if image[0] == 'm' :\n",
        "                X_m[img_num(image)-1]+= img_to_array(pil_img)\n",
        "        else :                                                 #else masked image\n",
        "            \n",
        "            if image[0] == 'b' :\n",
        "                Xm_b[img_num(image)-1]+= img_to_array(pil_img)  # Similarly add the target\n",
        "            if image[0] == 'n' :                               # mask to y.\n",
        "                Xm_n[img_num(image)-1]+= img_to_array(pil_img)\n",
        "            if image[0] == 'm' :\n",
        "                Xm_m[img_num(image)-1]+= img_to_array(pil_img)"
      ]
    },
    {
      "cell_type": "code",
      "execution_count": null,
      "id": "12558286",
      "metadata": {
        "execution": {
          "iopub.execute_input": "2022-06-13T06:03:23.907537Z",
          "iopub.status.busy": "2022-06-13T06:03:23.906755Z",
          "iopub.status.idle": "2022-06-13T06:03:24.321868Z",
          "shell.execute_reply": "2022-06-13T06:03:24.320618Z"
        },
        "papermill": {
          "duration": 0.422782,
          "end_time": "2022-06-13T06:03:24.324110",
          "exception": false,
          "start_time": "2022-06-13T06:03:23.901328",
          "status": "completed"
        },
        "tags": [],
        "colab": {
          "base_uri": "https://localhost:8080/"
        },
        "id": "12558286",
        "outputId": "250b63e1-9f36-4c2d-a755-8e6dfc99ace4"
      },
      "outputs": [
        {
          "output_type": "stream",
          "name": "stdout",
          "text": [
            "(780, 128, 128, 3)\n",
            "(780, 128, 128, 3)\n",
            "(780,)\n",
            "2.0\n",
            "0.0\n"
          ]
        }
      ],
      "source": [
        "X = np.concatenate((X_b, X_n, X_m), axis = 0)\n",
        "Xm = np.concatenate((Xm_b, Xm_n, Xm_m), axis = 0)\n",
        "y = np.concatenate((y_b, y_n, y_m), axis = 0)\n",
        "\n",
        "print(X.shape)\n",
        "print(Xm.shape)\n",
        "print(y.shape)\n",
        "X /= 255.0\n",
        "Xm /= 255.0\n",
        "\n",
        "print(X.max())\n",
        "print(Xm.min())"
      ]
    },
    {
      "cell_type": "code",
      "execution_count": null,
      "id": "d174cf8e",
      "metadata": {
        "execution": {
          "iopub.execute_input": "2022-06-13T06:03:24.334971Z",
          "iopub.status.busy": "2022-06-13T06:03:24.334145Z",
          "iopub.status.idle": "2022-06-13T06:03:25.547317Z",
          "shell.execute_reply": "2022-06-13T06:03:25.546069Z"
        },
        "papermill": {
          "duration": 1.220928,
          "end_time": "2022-06-13T06:03:25.549570",
          "exception": false,
          "start_time": "2022-06-13T06:03:24.328642",
          "status": "completed"
        },
        "tags": [],
        "colab": {
          "base_uri": "https://localhost:8080/"
        },
        "id": "d174cf8e",
        "outputId": "0dea066f-92d1-4c4b-bb3b-206deab2a5f2"
      },
      "outputs": [
        {
          "output_type": "stream",
          "name": "stdout",
          "text": [
            "(663, 128, 128, 3) (117, 128, 128, 3)\n",
            "(663, 3) (117, 3)\n"
          ]
        }
      ],
      "source": [
        "from sklearn.model_selection import train_test_split\n",
        "from sklearn.preprocessing import OneHotEncoder\n",
        "\n",
        "encoder  = OneHotEncoder()\n",
        "# y = y.toarray()\n",
        "y=encoder.fit_transform(y.reshape(y.shape[0],1))\n",
        "\n",
        "X_train,X_test,y_train,y_test = train_test_split(X,y,test_size = 0.15,shuffle=True,random_state=42)\n",
        "Xm_train,Xm_test,ym_train,ym_test = train_test_split(Xm,y,test_size = 0.15,shuffle=True,random_state=42,stratify=y.toarray())\n",
        "\n",
        "class_list = encoder.categories_\n",
        "print(X_train.shape,X_test.shape)\n",
        "print(y_train.shape,y_test.shape)"
      ]
    },
    {
      "cell_type": "code",
      "execution_count": null,
      "id": "0024614e",
      "metadata": {
        "execution": {
          "iopub.execute_input": "2022-06-13T06:03:25.560988Z",
          "iopub.status.busy": "2022-06-13T06:03:25.560115Z",
          "iopub.status.idle": "2022-06-13T06:03:25.568613Z",
          "shell.execute_reply": "2022-06-13T06:03:25.567542Z"
        },
        "papermill": {
          "duration": 0.016224,
          "end_time": "2022-06-13T06:03:25.570551",
          "exception": false,
          "start_time": "2022-06-13T06:03:25.554327",
          "status": "completed"
        },
        "tags": [],
        "id": "0024614e"
      },
      "outputs": [],
      "source": [
        "from sklearn.metrics import f1_score,roc_auc_score,cohen_kappa_score\n",
        "def evaluation(model,X_train,y_train,X_val,y_val,X_test,y_test,history):\n",
        "    train_loss , train_acc = model.evaluate(X_train,y_train.toarray())\n",
        "    val_loss, val_acc = model.evaluate(X_val,y_val.toarray())\n",
        "    test_loss_value , test_accuracy = model.evaluate(X_test, y_test.toarray())\n",
        "    y_pred = model.predict(X_test)\n",
        "    y_pred_label = np.argmax(y_pred,axis=1)\n",
        "    y_true_label = np.argmax(y_test,axis=1)\n",
        "    f1_measure = f1_score(y_true_label,y_pred_label,average='weighted')\n",
        "    roc_score = roc_auc_score(y_test.toarray(),y_pred)\n",
        "    kappa_score = cohen_kappa_score(y_true_label,y_pred_label)\n",
        "    print(\"Train accuracy = \"+str(train_acc))\n",
        "    print(\"Validation accuracy = \"+str(val_acc))\n",
        "    print('Test accuracy = ' + str(test_accuracy))\n",
        "    print(\"f1_measure = \"+str(f1_measure))\n",
        "    print(\"KAPPA = \"+str(kappa_score))\n",
        "    print(\"roc_area = \"+str(roc_score))"
      ]
    },
    {
      "cell_type": "code",
      "execution_count": null,
      "id": "f27e9c3e",
      "metadata": {
        "execution": {
          "iopub.execute_input": "2022-06-13T06:03:25.581632Z",
          "iopub.status.busy": "2022-06-13T06:03:25.580709Z",
          "iopub.status.idle": "2022-06-13T06:03:25.588631Z",
          "shell.execute_reply": "2022-06-13T06:03:25.587657Z"
        },
        "papermill": {
          "duration": 0.015624,
          "end_time": "2022-06-13T06:03:25.590673",
          "exception": false,
          "start_time": "2022-06-13T06:03:25.575049",
          "status": "completed"
        },
        "tags": [],
        "id": "f27e9c3e"
      },
      "outputs": [],
      "source": [
        "import matplotlib.pyplot as plt\n",
        "def Train_Val_Plot(acc,val_acc,loss,val_loss):\n",
        "    \n",
        "    fig, (ax1, ax2) = plt.subplots(1,2, figsize= (15,10))\n",
        "    fig.suptitle(\" MODEL'S METRICS VISUALIZATION \")\n",
        "\n",
        "    ax1.plot(range(1, len(acc) + 1), acc)\n",
        "    ax1.plot(range(1, len(val_acc) + 1), val_acc)\n",
        "    ax1.set_title('History of Accuracy')\n",
        "    ax1.set_xlabel('Epochs')\n",
        "    ax1.set_ylabel('Accuracy')\n",
        "    ax1.legend(['training', 'validation'])\n",
        "\n",
        "\n",
        "    ax2.plot(range(1, len(loss) + 1), loss)\n",
        "    ax2.plot(range(1, len(val_loss) + 1), val_loss)\n",
        "    ax2.set_title('History of Loss')\n",
        "    ax2.set_xlabel('Epochs')\n",
        "    ax2.set_ylabel('Loss')\n",
        "    ax2.legend(['training', 'validation'])\n",
        "    plt.show()"
      ]
    },
    {
      "cell_type": "code",
      "execution_count": null,
      "id": "51c98005",
      "metadata": {
        "execution": {
          "iopub.execute_input": "2022-06-13T06:03:25.601111Z",
          "iopub.status.busy": "2022-06-13T06:03:25.600703Z",
          "iopub.status.idle": "2022-06-13T06:03:25.609128Z",
          "shell.execute_reply": "2022-06-13T06:03:25.608126Z"
        },
        "papermill": {
          "duration": 0.016332,
          "end_time": "2022-06-13T06:03:25.611549",
          "exception": false,
          "start_time": "2022-06-13T06:03:25.595217",
          "status": "completed"
        },
        "tags": [],
        "id": "51c98005"
      },
      "outputs": [],
      "source": [
        "import tensorflow as tf\n",
        "from tensorflow.keras.callbacks import EarlyStopping, ModelCheckpoint\n",
        "\n",
        "\n",
        "def fit_evaluate(model,X_train,y_train,X_test,y_test,bs,Epochs,patience):\n",
        "    es = EarlyStopping(monitor='val_loss', mode='min', patience=patience,restore_best_weights=True, verbose=1)\n",
        "    X1_train,X_val,y1_train,y_val = train_test_split(X_train,y_train,test_size=0.1,random_state=42,stratify = y_train.toarray())\n",
        "    history = model.fit(X1_train,y1_train.toarray(),batch_size = bs,epochs=Epochs,validation_data = (X_val,y_val.toarray()), callbacks=[es])\n",
        "    evaluation(model,X1_train,y1_train,X_val,y_val,X_test,y_test,history)\n",
        "    Train_Val_Plot(history.history['acc'],history.history['val_acc'],history.history['loss'],history.history['val_loss'])"
      ]
    },
    {
      "cell_type": "code",
      "execution_count": null,
      "id": "9d3faf9a",
      "metadata": {
        "execution": {
          "iopub.execute_input": "2022-06-13T06:03:25.622102Z",
          "iopub.status.busy": "2022-06-13T06:03:25.621428Z",
          "iopub.status.idle": "2022-06-13T06:03:28.735200Z",
          "shell.execute_reply": "2022-06-13T06:03:28.734094Z"
        },
        "papermill": {
          "duration": 3.121756,
          "end_time": "2022-06-13T06:03:28.737721",
          "exception": false,
          "start_time": "2022-06-13T06:03:25.615965",
          "status": "completed"
        },
        "tags": [],
        "colab": {
          "base_uri": "https://localhost:8080/"
        },
        "id": "9d3faf9a",
        "outputId": "50a48f0e-6807-41fd-db8f-8104021bc7c9"
      },
      "outputs": [
        {
          "output_type": "stream",
          "name": "stdout",
          "text": [
            "Downloading data from https://storage.googleapis.com/tensorflow/keras-applications/resnet/resnet50_weights_tf_dim_ordering_tf_kernels_notop.h5\n",
            "94765736/94765736 [==============================] - 4s 0us/step\n"
          ]
        }
      ],
      "source": [
        "import tensorflow as tf\n",
        "base_model = tf.keras.applications.ResNet50(\n",
        "                include_top=False,\n",
        "                weights=\"imagenet\",\n",
        "                input_tensor=None,\n",
        "                input_shape=img_shape,\n",
        "                pooling=None,\n",
        "            )\n",
        "for layer in base_model.layers:\n",
        "    layer.trainable = False"
      ]
    },
    {
      "cell_type": "code",
      "execution_count": null,
      "id": "9e3fdf5e",
      "metadata": {
        "execution": {
          "iopub.execute_input": "2022-06-13T06:03:28.750065Z",
          "iopub.status.busy": "2022-06-13T06:03:28.749674Z",
          "iopub.status.idle": "2022-06-13T06:03:28.756967Z",
          "shell.execute_reply": "2022-06-13T06:03:28.756003Z"
        },
        "papermill": {
          "duration": 0.016019,
          "end_time": "2022-06-13T06:03:28.759060",
          "exception": false,
          "start_time": "2022-06-13T06:03:28.743041",
          "status": "completed"
        },
        "tags": [],
        "id": "9e3fdf5e"
      },
      "outputs": [],
      "source": [
        "def resnet():\n",
        "\n",
        "    model = Sequential()\n",
        "    model.add(base_model)\n",
        "    \n",
        "    model.add(Flatten())\n",
        "    model.add(BatchNormalization())\n",
        "    model.add(Dense(256,activation='relu'))\n",
        "    model.add(Dropout(0.5))\n",
        "    model.add(Dense(128,activation='relu'))\n",
        "    model.add(Dropout(0.5))\n",
        "    model.add(Dense(64,activation='relu'))\n",
        "    model.add(Dropout(0.5))\n",
        "    model.add(Dense(3,activation='softmax'))\n",
        "    \n",
        "    model.compile(optimizer='adam',loss='categorical_crossentropy',metrics=['acc'])\n",
        "    \n",
        "    return model"
      ]
    },
    {
      "cell_type": "code",
      "execution_count": null,
      "id": "950283e1",
      "metadata": {
        "execution": {
          "iopub.execute_input": "2022-06-13T06:03:28.770781Z",
          "iopub.status.busy": "2022-06-13T06:03:28.770417Z",
          "iopub.status.idle": "2022-06-13T06:09:42.193766Z",
          "shell.execute_reply": "2022-06-13T06:09:42.192714Z"
        },
        "papermill": {
          "duration": 373.432251,
          "end_time": "2022-06-13T06:09:42.196421",
          "exception": false,
          "start_time": "2022-06-13T06:03:28.764170",
          "status": "completed"
        },
        "tags": [],
        "colab": {
          "base_uri": "https://localhost:8080/",
          "height": 1000
        },
        "id": "950283e1",
        "outputId": "83a6c10c-5c64-471d-9696-65cd9ef137b0"
      },
      "outputs": [
        {
          "output_type": "stream",
          "name": "stdout",
          "text": [
            "Model: \"sequential\"\n",
            "_________________________________________________________________\n",
            " Layer (type)                Output Shape              Param #   \n",
            "=================================================================\n",
            " resnet50 (Functional)       (None, 4, 4, 2048)        23587712  \n",
            "                                                                 \n",
            " flatten (Flatten)           (None, 32768)             0         \n",
            "                                                                 \n",
            " batch_normalization (BatchN  (None, 32768)            131072    \n",
            " ormalization)                                                   \n",
            "                                                                 \n",
            " dense (Dense)               (None, 256)               8388864   \n",
            "                                                                 \n",
            " dropout (Dropout)           (None, 256)               0         \n",
            "                                                                 \n",
            " dense_1 (Dense)             (None, 128)               32896     \n",
            "                                                                 \n",
            " dropout_1 (Dropout)         (None, 128)               0         \n",
            "                                                                 \n",
            " dense_2 (Dense)             (None, 64)                8256      \n",
            "                                                                 \n",
            " dropout_2 (Dropout)         (None, 64)                0         \n",
            "                                                                 \n",
            " dense_3 (Dense)             (None, 3)                 195       \n",
            "                                                                 \n",
            "=================================================================\n",
            "Total params: 32,148,995\n",
            "Trainable params: 8,495,747\n",
            "Non-trainable params: 23,653,248\n",
            "_________________________________________________________________\n",
            "Epoch 1/30\n",
            "38/38 [==============================] - 50s 1s/step - loss: 0.8817 - acc: 0.6057 - val_loss: 2.5843 - val_acc: 0.5672\n",
            "Epoch 2/30\n",
            "38/38 [==============================] - 46s 1s/step - loss: 0.6228 - acc: 0.7114 - val_loss: 3.1084 - val_acc: 0.5672\n",
            "Epoch 3/30\n",
            "38/38 [==============================] - 40s 1s/step - loss: 0.4685 - acc: 0.7836 - val_loss: 2.5603 - val_acc: 0.5672\n",
            "Epoch 4/30\n",
            "38/38 [==============================] - 40s 1s/step - loss: 0.4053 - acc: 0.8188 - val_loss: 2.0527 - val_acc: 0.5672\n",
            "Epoch 5/30\n",
            "38/38 [==============================] - 45s 1s/step - loss: 0.4732 - acc: 0.8087 - val_loss: 0.9498 - val_acc: 0.7313\n",
            "Epoch 6/30\n",
            "38/38 [==============================] - 42s 1s/step - loss: 0.3850 - acc: 0.8339 - val_loss: 0.6062 - val_acc: 0.7313\n",
            "Epoch 7/30\n",
            "38/38 [==============================] - 45s 1s/step - loss: 0.3401 - acc: 0.8372 - val_loss: 0.5261 - val_acc: 0.8209\n",
            "Epoch 8/30\n",
            "38/38 [==============================] - 49s 1s/step - loss: 0.3698 - acc: 0.8339 - val_loss: 0.4163 - val_acc: 0.8358\n",
            "Epoch 9/30\n",
            "38/38 [==============================] - 39s 1s/step - loss: 0.3503 - acc: 0.8809 - val_loss: 0.3763 - val_acc: 0.8507\n",
            "Epoch 10/30\n",
            "38/38 [==============================] - 40s 1s/step - loss: 0.3194 - acc: 0.8507 - val_loss: 0.3720 - val_acc: 0.8657\n",
            "Epoch 11/30\n",
            "38/38 [==============================] - 40s 1s/step - loss: 0.3040 - acc: 0.8792 - val_loss: 0.4116 - val_acc: 0.8358\n",
            "Epoch 12/30\n",
            "38/38 [==============================] - 39s 1s/step - loss: 0.2977 - acc: 0.8926 - val_loss: 0.4562 - val_acc: 0.8358\n",
            "Epoch 13/30\n",
            "38/38 [==============================] - 39s 1s/step - loss: 0.3363 - acc: 0.8641 - val_loss: 0.3300 - val_acc: 0.8209\n",
            "Epoch 14/30\n",
            "38/38 [==============================] - 39s 1s/step - loss: 0.2794 - acc: 0.8842 - val_loss: 0.3686 - val_acc: 0.8358\n",
            "Epoch 15/30\n",
            "38/38 [==============================] - 41s 1s/step - loss: 0.2513 - acc: 0.9144 - val_loss: 0.3790 - val_acc: 0.8507\n",
            "Epoch 16/30\n",
            "38/38 [==============================] - 40s 1s/step - loss: 0.2637 - acc: 0.9111 - val_loss: 0.4611 - val_acc: 0.8358\n",
            "Epoch 17/30\n",
            "38/38 [==============================] - ETA: 0s - loss: 0.2212 - acc: 0.8993Restoring model weights from the end of the best epoch: 13.\n",
            "38/38 [==============================] - 39s 1s/step - loss: 0.2212 - acc: 0.8993 - val_loss: 0.4366 - val_acc: 0.8507\n",
            "Epoch 17: early stopping\n",
            "19/19 [==============================] - 32s 2s/step - loss: 0.1864 - acc: 0.9161\n",
            "3/3 [==============================] - 4s 959ms/step - loss: 0.3300 - acc: 0.8209\n",
            "4/4 [==============================] - 6s 2s/step - loss: 0.4359 - acc: 0.8034\n",
            "4/4 [==============================] - 7s 2s/step\n",
            "Train accuracy = 0.9161073565483093\n",
            "Validation accuracy = 0.8208954930305481\n",
            "Test accuracy = 0.8034188151359558\n",
            "f1_measure = 0.7896843169194055\n",
            "KAPPA = 0.6700993012136816\n",
            "roc_area = 0.9333409680867307\n"
          ]
        },
        {
          "output_type": "display_data",
          "data": {
            "text/plain": [
              "<Figure size 1080x720 with 2 Axes>"
            ],
            "image/png": "[encoded data removed]"
          },
          "metadata": {
            "needs_background": "light"
          }
        }
      ],
      "source": [
        "model = resnet()\n",
        "model.summary()\n",
        "fit_evaluate(model,X_train,y_train,X_test,y_test,16,30,4)"
      ]
    },
    {
      "cell_type": "code",
      "source": [
        "y_pred = model.predict(X_test)\n",
        "conf6 = confusion_matrix(y_test, y_pred)"
      ],
      "metadata": {
        "colab": {
          "base_uri": "https://localhost:8080/",
          "height": 345
        },
        "id": "hdxW-H-pTdtx",
        "outputId": "c84d0b46-ef60-4976-8891-f7042e5c5537"
      },
      "id": "hdxW-H-pTdtx",
      "execution_count": null,
      "outputs": [
        {
          "output_type": "stream",
          "name": "stdout",
          "text": [
            "4/4 [==============================] - 6s 2s/step\n"
          ]
        },
        {
          "output_type": "error",
          "ename": "ValueError",
          "evalue": "ignored",
          "traceback": [
            "\u001b[0;31m---------------------------------------------------------------------------\u001b[0m",
            "\u001b[0;31mValueError\u001b[0m                                Traceback (most recent call last)",
            "\u001b[0;32m<ipython-input-28-311bff3bc0af>\u001b[0m in \u001b[0;36m<module>\u001b[0;34m\u001b[0m\n\u001b[1;32m      1\u001b[0m \u001b[0my_pred\u001b[0m \u001b[0;34m=\u001b[0m \u001b[0mmodel\u001b[0m\u001b[0;34m.\u001b[0m\u001b[0mpredict\u001b[0m\u001b[0;34m(\u001b[0m\u001b[0mX_test\u001b[0m\u001b[0;34m)\u001b[0m\u001b[0;34m\u001b[0m\u001b[0;34m\u001b[0m\u001b[0m\n\u001b[0;32m----> 2\u001b[0;31m \u001b[0mconf6\u001b[0m \u001b[0;34m=\u001b[0m \u001b[0mconfusion_matrix\u001b[0m\u001b[0;34m(\u001b[0m\u001b[0my_test\u001b[0m\u001b[0;34m,\u001b[0m \u001b[0my_pred\u001b[0m\u001b[0;34m)\u001b[0m\u001b[0;34m\u001b[0m\u001b[0;34m\u001b[0m\u001b[0m\n\u001b[0m",
            "\u001b[0;32m/usr/local/lib/python3.8/dist-packages/sklearn/metrics/_classification.py\u001b[0m in \u001b[0;36mconfusion_matrix\u001b[0;34m(y_true, y_pred, labels, sample_weight, normalize)\u001b[0m\n\u001b[1;32m    305\u001b[0m     \u001b[0;34m(\u001b[0m\u001b[0;36m0\u001b[0m\u001b[0;34m,\u001b[0m \u001b[0;36m2\u001b[0m\u001b[0;34m,\u001b[0m \u001b[0;36m1\u001b[0m\u001b[0;34m,\u001b[0m \u001b[0;36m1\u001b[0m\u001b[0;34m)\u001b[0m\u001b[0;34m\u001b[0m\u001b[0;34m\u001b[0m\u001b[0m\n\u001b[1;32m    306\u001b[0m     \"\"\"\n\u001b[0;32m--> 307\u001b[0;31m     \u001b[0my_type\u001b[0m\u001b[0;34m,\u001b[0m \u001b[0my_true\u001b[0m\u001b[0;34m,\u001b[0m \u001b[0my_pred\u001b[0m \u001b[0;34m=\u001b[0m \u001b[0m_check_targets\u001b[0m\u001b[0;34m(\u001b[0m\u001b[0my_true\u001b[0m\u001b[0;34m,\u001b[0m \u001b[0my_pred\u001b[0m\u001b[0;34m)\u001b[0m\u001b[0;34m\u001b[0m\u001b[0;34m\u001b[0m\u001b[0m\n\u001b[0m\u001b[1;32m    308\u001b[0m     \u001b[0;32mif\u001b[0m \u001b[0my_type\u001b[0m \u001b[0;32mnot\u001b[0m \u001b[0;32min\u001b[0m \u001b[0;34m(\u001b[0m\u001b[0;34m\"binary\"\u001b[0m\u001b[0;34m,\u001b[0m \u001b[0;34m\"multiclass\"\u001b[0m\u001b[0;34m)\u001b[0m\u001b[0;34m:\u001b[0m\u001b[0;34m\u001b[0m\u001b[0;34m\u001b[0m\u001b[0m\n\u001b[1;32m    309\u001b[0m         \u001b[0;32mraise\u001b[0m \u001b[0mValueError\u001b[0m\u001b[0;34m(\u001b[0m\u001b[0;34m\"%s is not supported\"\u001b[0m \u001b[0;34m%\u001b[0m \u001b[0my_type\u001b[0m\u001b[0;34m)\u001b[0m\u001b[0;34m\u001b[0m\u001b[0;34m\u001b[0m\u001b[0m\n",
            "\u001b[0;32m/usr/local/lib/python3.8/dist-packages/sklearn/metrics/_classification.py\u001b[0m in \u001b[0;36m_check_targets\u001b[0;34m(y_true, y_pred)\u001b[0m\n\u001b[1;32m     91\u001b[0m \u001b[0;34m\u001b[0m\u001b[0m\n\u001b[1;32m     92\u001b[0m     \u001b[0;32mif\u001b[0m \u001b[0mlen\u001b[0m\u001b[0;34m(\u001b[0m\u001b[0my_type\u001b[0m\u001b[0;34m)\u001b[0m \u001b[0;34m>\u001b[0m \u001b[0;36m1\u001b[0m\u001b[0;34m:\u001b[0m\u001b[0;34m\u001b[0m\u001b[0;34m\u001b[0m\u001b[0m\n\u001b[0;32m---> 93\u001b[0;31m         raise ValueError(\n\u001b[0m\u001b[1;32m     94\u001b[0m             \"Classification metrics can't handle a mix of {0} and {1} targets\".format(\n\u001b[1;32m     95\u001b[0m                 \u001b[0mtype_true\u001b[0m\u001b[0;34m,\u001b[0m \u001b[0mtype_pred\u001b[0m\u001b[0;34m\u001b[0m\u001b[0;34m\u001b[0m\u001b[0m\n",
            "\u001b[0;31mValueError\u001b[0m: Classification metrics can't handle a mix of multilabel-indicator and continuous-multioutput targets"
          ]
        }
      ]
    },
    {
      "cell_type": "code",
      "source": [
        "from sklearn.metrics import accuracy_score\n",
        "from sklearn.metrics import confusion_matrix\n",
        "from sklearn.metrics import classification_report\n",
        "import seaborn as sns"
      ],
      "metadata": {
        "id": "H2y2p0jwMeii"
      },
      "id": "H2y2p0jwMeii",
      "execution_count": null,
      "outputs": []
    },
    {
      "cell_type": "code",
      "source": [],
      "metadata": {
        "id": "4AZSuBERTlkd"
      },
      "id": "4AZSuBERTlkd",
      "execution_count": null,
      "outputs": []
    },
    {
      "cell_type": "code",
      "execution_count": null,
      "id": "0f508a27",
      "metadata": {
        "execution": {
          "iopub.execute_input": "2022-06-13T06:09:42.292364Z",
          "iopub.status.busy": "2022-06-13T06:09:42.291613Z",
          "iopub.status.idle": "2022-06-13T06:13:27.772101Z",
          "shell.execute_reply": "2022-06-13T06:13:27.771322Z"
        },
        "papermill": {
          "duration": 225.530332,
          "end_time": "2022-06-13T06:13:27.773951",
          "exception": false,
          "start_time": "2022-06-13T06:09:42.243619",
          "status": "completed"
        },
        "tags": [],
        "colab": {
          "base_uri": "https://localhost:8080/",
          "height": 1000
        },
        "id": "0f508a27",
        "outputId": "369250b9-6954-4920-f99c-beb7b61bc26d"
      },
      "outputs": [
        {
          "output_type": "stream",
          "name": "stdout",
          "text": [
            "Model: \"sequential_2\"\n",
            "_________________________________________________________________\n",
            " Layer (type)                Output Shape              Param #   \n",
            "=================================================================\n",
            " resnet50 (Functional)       (None, 4, 4, 2048)        23587712  \n",
            "                                                                 \n",
            " flatten_2 (Flatten)         (None, 32768)             0         \n",
            "                                                                 \n",
            " batch_normalization_2 (Batc  (None, 32768)            131072    \n",
            " hNormalization)                                                 \n",
            "                                                                 \n",
            " dense_8 (Dense)             (None, 256)               8388864   \n",
            "                                                                 \n",
            " dropout_6 (Dropout)         (None, 256)               0         \n",
            "                                                                 \n",
            " dense_9 (Dense)             (None, 128)               32896     \n",
            "                                                                 \n",
            " dropout_7 (Dropout)         (None, 128)               0         \n",
            "                                                                 \n",
            " dense_10 (Dense)            (None, 64)                8256      \n",
            "                                                                 \n",
            " dropout_8 (Dropout)         (None, 64)                0         \n",
            "                                                                 \n",
            " dense_11 (Dense)            (None, 3)                 195       \n",
            "                                                                 \n",
            "=================================================================\n",
            "Total params: 32,148,995\n",
            "Trainable params: 8,495,747\n",
            "Non-trainable params: 23,653,248\n",
            "_________________________________________________________________\n",
            "Epoch 1/30\n",
            "38/38 [==============================] - 46s 1s/step - loss: 1.0925 - acc: 0.5587 - val_loss: 1.0806 - val_acc: 0.2687\n",
            "Epoch 2/30\n",
            "38/38 [==============================] - 41s 1s/step - loss: 1.0794 - acc: 0.5587 - val_loss: 1.0683 - val_acc: 0.2687\n",
            "Epoch 3/30\n",
            "38/38 [==============================] - 39s 1s/step - loss: 1.0679 - acc: 0.5587 - val_loss: 1.0570 - val_acc: 0.5672\n",
            "Epoch 4/30\n",
            "38/38 [==============================] - 39s 1s/step - loss: 1.0575 - acc: 0.5587 - val_loss: 1.0474 - val_acc: 0.5672\n",
            "Epoch 5/30\n",
            "38/38 [==============================] - 39s 1s/step - loss: 1.0479 - acc: 0.5587 - val_loss: 1.0384 - val_acc: 0.5672\n",
            "Epoch 6/30\n",
            "38/38 [==============================] - 39s 1s/step - loss: 1.0394 - acc: 0.5587 - val_loss: 1.0304 - val_acc: 0.5672\n",
            "Epoch 7/30\n",
            "38/38 [==============================] - 39s 1s/step - loss: 1.0320 - acc: 0.5587 - val_loss: 1.0229 - val_acc: 0.5672\n",
            "Epoch 8/30\n",
            "38/38 [==============================] - 39s 1s/step - loss: 1.0254 - acc: 0.5587 - val_loss: 1.0170 - val_acc: 0.5672\n",
            "Epoch 9/30\n",
            "38/38 [==============================] - 41s 1s/step - loss: 1.0195 - acc: 0.5587 - val_loss: 1.0116 - val_acc: 0.5672\n",
            "Epoch 10/30\n",
            "38/38 [==============================] - 38s 1s/step - loss: 1.0145 - acc: 0.5587 - val_loss: 1.0064 - val_acc: 0.5672\n",
            "Epoch 11/30\n",
            "38/38 [==============================] - 40s 1s/step - loss: 1.0099 - acc: 0.5587 - val_loss: 1.0018 - val_acc: 0.5672\n",
            "Epoch 12/30\n",
            "38/38 [==============================] - 38s 1s/step - loss: 1.0057 - acc: 0.5587 - val_loss: 0.9982 - val_acc: 0.5672\n",
            "Epoch 13/30\n",
            "38/38 [==============================] - 38s 1s/step - loss: 1.0022 - acc: 0.5587 - val_loss: 0.9948 - val_acc: 0.5672\n",
            "Epoch 14/30\n",
            "38/38 [==============================] - 38s 1s/step - loss: 0.9992 - acc: 0.5587 - val_loss: 0.9918 - val_acc: 0.5672\n",
            "Epoch 15/30\n",
            "38/38 [==============================] - 39s 1s/step - loss: 0.9965 - acc: 0.5587 - val_loss: 0.9892 - val_acc: 0.5672\n",
            "Epoch 16/30\n",
            "38/38 [==============================] - 41s 1s/step - loss: 0.9943 - acc: 0.5587 - val_loss: 0.9865 - val_acc: 0.5672\n",
            "Epoch 17/30\n",
            "38/38 [==============================] - 39s 1s/step - loss: 0.9922 - acc: 0.5587 - val_loss: 0.9847 - val_acc: 0.5672\n",
            "Epoch 18/30\n",
            "38/38 [==============================] - 39s 1s/step - loss: 0.9907 - acc: 0.5587 - val_loss: 0.9832 - val_acc: 0.5672\n",
            "Epoch 19/30\n",
            "38/38 [==============================] - 39s 1s/step - loss: 0.9894 - acc: 0.5587 - val_loss: 0.9820 - val_acc: 0.5672\n",
            "Epoch 20/30\n",
            "38/38 [==============================] - 39s 1s/step - loss: 0.9884 - acc: 0.5587 - val_loss: 0.9806 - val_acc: 0.5672\n",
            "Epoch 21/30\n",
            "38/38 [==============================] - 39s 1s/step - loss: 0.9872 - acc: 0.5587 - val_loss: 0.9794 - val_acc: 0.5672\n",
            "Epoch 22/30\n",
            "38/38 [==============================] - 39s 1s/step - loss: 0.9864 - acc: 0.5587 - val_loss: 0.9784 - val_acc: 0.5672\n",
            "Epoch 23/30\n",
            "38/38 [==============================] - 41s 1s/step - loss: 0.9856 - acc: 0.5587 - val_loss: 0.9778 - val_acc: 0.5672\n",
            "Epoch 24/30\n",
            "38/38 [==============================] - 38s 1s/step - loss: 0.9851 - acc: 0.5587 - val_loss: 0.9770 - val_acc: 0.5672\n",
            "Epoch 25/30\n",
            "38/38 [==============================] - 39s 1s/step - loss: 0.9844 - acc: 0.5587 - val_loss: 0.9763 - val_acc: 0.5672\n",
            "Epoch 26/30\n",
            "38/38 [==============================] - 39s 1s/step - loss: 0.9839 - acc: 0.5587 - val_loss: 0.9758 - val_acc: 0.5672\n",
            "Epoch 27/30\n",
            "38/38 [==============================] - 38s 1s/step - loss: 0.9835 - acc: 0.5587 - val_loss: 0.9753 - val_acc: 0.5672\n",
            "Epoch 28/30\n",
            "38/38 [==============================] - 39s 1s/step - loss: 0.9832 - acc: 0.5587 - val_loss: 0.9748 - val_acc: 0.5672\n",
            "Epoch 29/30\n",
            "38/38 [==============================] - 38s 1s/step - loss: 0.9827 - acc: 0.5587 - val_loss: 0.9743 - val_acc: 0.5672\n",
            "Epoch 30/30\n",
            "38/38 [==============================] - 40s 1s/step - loss: 0.9825 - acc: 0.5587 - val_loss: 0.9741 - val_acc: 0.5672\n",
            "19/19 [==============================] - 31s 2s/step - loss: 0.9823 - acc: 0.5587\n",
            "3/3 [==============================] - 4s 945ms/step - loss: 0.9741 - acc: 0.5672\n",
            "4/4 [==============================] - 6s 2s/step - loss: 0.9785 - acc: 0.5641\n",
            "4/4 [==============================] - 7s 1s/step\n",
            "Train accuracy = 0.5587248206138611\n",
            "Validation accuracy = 0.5671641826629639\n",
            "Test accuracy = 0.5641025900840759\n",
            "f1_measure = 0.40689365279529216\n",
            "KAPPA = 0.0\n",
            "roc_area = 0.5048724830747352\n"
          ]
        },
        {
          "output_type": "display_data",
          "data": {
            "text/plain": [
              "<Figure size 1080x720 with 2 Axes>"
            ],
            "image/png": "[encoded data removed]"
          },
          "metadata": {
            "needs_background": "light"
          }
        }
      ],
      "source": [
        "model = resnet()\n",
        "model.summary()\n",
        "fit_evaluate(model,Xm_train,ym_train,Xm_test,ym_test,16,30,4)"
      ]
    },
    {
      "cell_type": "code",
      "source": [],
      "metadata": {
        "id": "p2MpXr7OMXSH"
      },
      "id": "p2MpXr7OMXSH",
      "execution_count": null,
      "outputs": []
    }
  ],
  "metadata": {
    "kernelspec": {
      "display_name": "Python 3",
      "language": "python",
      "name": "python3"
    },
    "language_info": {
      "codemirror_mode": {
        "name": "ipython",
        "version": 3
      },
      "file_extension": ".py",
      "mimetype": "text/x-python",
      "name": "python",
      "nbconvert_exporter": "python",
      "pygments_lexer": "ipython3",
      "version": "3.7.12"
    },
    "papermill": {
      "default_parameters": {},
      "duration": 641.893205,
      "end_time": "2022-06-13T06:13:32.930233",
      "environment_variables": {},
      "exception": null,
      "input_path": "__notebook__.ipynb",
      "output_path": "__notebook__.ipynb",
      "parameters": {},
      "start_time": "2022-06-13T06:02:51.037028",
      "version": "2.3.4"
    },
    "colab": {
      "provenance": [],
      "include_colab_link": true
    }
  },
  "nbformat": 4,
  "nbformat_minor": 5
}